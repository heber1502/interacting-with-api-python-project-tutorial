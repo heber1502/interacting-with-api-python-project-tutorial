{
    "cells": [
        {
            "cell_type": "markdown",
            "metadata": {},
            "source": [
                "# Explore here"
            ]
        },
        {
            "cell_type": "code",
            "execution_count": 56,
            "metadata": {},
            "outputs": [
                {
                    "data": {
                        "text/plain": [
                            "<spotipy.client.Spotify at 0x732476dbc390>"
                        ]
                    },
                    "execution_count": 56,
                    "metadata": {},
                    "output_type": "execute_result"
                }
            ],
            "source": [
                "import os\n",
                "import pandas as pd\n",
                "import seaborn as sns\n",
                "import matplotlib.pyplot as plt\n",
                "from dotenv import load_dotenv\n",
                "\n",
                "# load the .env file variables\n",
                "load_dotenv()\n",
                "\n",
                "import spotipy\n",
                "from spotipy.oauth2 import SpotifyClientCredentials\n",
                "spotipy.Spotify()"
            ]
        },
        {
            "cell_type": "code",
            "execution_count": 57,
            "metadata": {},
            "outputs": [
                {
                    "name": "stdout",
                    "output_type": "stream",
                    "text": [
                        "{'Nombre': 'Through Glass', 'Popularidad/100': 68, 'Duración(s)': 282.946}\n",
                        "{'Nombre': 'Absolute Zero', 'Popularidad/100': 64, 'Duración(s)': 229.84}\n",
                        "{'Nombre': 'Wicked Game - Acoustic; Live', 'Popularidad/100': 62, 'Duración(s)': 267.253}\n",
                        "{'Nombre': 'Bother', 'Popularidad/100': 60, 'Duración(s)': 240.4}\n",
                        "{'Nombre': 'Song #3', 'Popularidad/100': 59, 'Duración(s)': 256.533}\n",
                        "{'Nombre': \"Say You'll Haunt Me\", 'Popularidad/100': 56, 'Duración(s)': 264.373}\n",
                        "{'Nombre': '30/30-150', 'Popularidad/100': 53, 'Duración(s)': 258.066}\n",
                        "{'Nombre': 'Tired', 'Popularidad/100': 52, 'Duración(s)': 251.84}\n",
                        "{'Nombre': 'Hesitate', 'Popularidad/100': 48, 'Duración(s)': 256.346}\n",
                        "{'Nombre': 'Taciturn', 'Popularidad/100': 49, 'Duración(s)': 325.626}\n"
                    ]
                }
            ],
            "source": [
                "client_id = os.environ.get(\"CLIENT_ID\")  \n",
                "client_secret = os.environ.get(\"CLIENT_SECRET\")\n",
                "\n",
                "# Configurar el administrador de autenticación con tus credenciales de Spotify\n",
                "auth_manager = SpotifyClientCredentials(client_id=client_id, client_secret=client_secret)\n",
                "sp = spotipy.Spotify(auth_manager=auth_manager)\n",
                "\n",
                "artist_id = '49qiE8dj4JuNdpYGRPdKbF'\n",
                "\n",
                "# Obtener las pistas principales del artista\n",
                "top_tracks = sp.artist_top_tracks(artist_id, country='US')  \n",
                "\n",
                "\n",
                "data = []\n",
                "\n",
                "if top_tracks and 'tracks' in top_tracks:\n",
                "    for track in top_tracks['tracks']:\n",
                "        nombre = track[\"name\"]\n",
                "        popularidad = track[\"popularity\"]\n",
                "        duracion_ms = track[\"duration_ms\"]\n",
                "        duracion_s = duracion_ms / 1000  # Milisegundos a segundos\n",
                "\n",
                "        # Agregar información a la lista como un diccionario\n",
                "        data.append({\"Nombre\": nombre, \"Popularidad/100\": popularidad, \"Duración(s)\": duracion_s})\n",
                "\n",
                "# Imprimir la información de las pistas\n",
                "for item in data:\n",
                "    print(item)"
            ]
        },
        {
            "cell_type": "code",
            "execution_count": 58,
            "metadata": {},
            "outputs": [],
            "source": [
                "tracks_df = pd.DataFrame.from_records(data)\n",
                "ds_top3 = tracks_df.head(n=3)\n",
                "\n"
            ]
        },
        {
            "cell_type": "code",
            "execution_count": 59,
            "metadata": {},
            "outputs": [
                {
                    "data": {
                        "image/png": "[encoded data removed]",
                        "text/plain": [
                            "<Figure size 640x480 with 1 Axes>"
                        ]
                    },
                    "metadata": {},
                    "output_type": "display_data"
                },
                {
                    "name": "stdout",
                    "output_type": "stream",
                    "text": [
                        "Como se puede observar, no hay una relación directa entre la duración de la canción y su popularidad.\n"
                    ]
                }
            ],
            "source": [
                "\n",
                "# Crear el gráfico de dispersión\n",
                "scatter_plot = sns.scatterplot(data=ds_top3, x=\"Popularidad/100\", y=\"Duración(s)\")\n",
                "\n",
                "# Configurar el título y las etiquetas\n",
                "scatter_plot.set_title(\"Top 3 Tracks: Popularity vs Duration\")\n",
                "scatter_plot.set_xlabel(\"Popularity\")\n",
                "scatter_plot.set_ylabel(\"Duration (seconds)\")\n",
                "fig = scatter_plot.get_figure()\n",
                "\n",
                "\n",
                "plt.show()\n",
                "print(\"Como se puede observar, no hay una relación directa entre la duración de la canción y su popularidad.\")"
            ]
        }
    ],
    "metadata": {
        "kernelspec": {
            "display_name": "Python 3.8.13 64-bit ('3.8.13')",
            "language": "python",
            "name": "python3"
        },
        "language_info": {
            "codemirror_mode": {
                "name": "ipython",
                "version": 3
            },
            "file_extension": ".py",
            "mimetype": "text/x-python",
            "name": "python",
            "nbconvert_exporter": "python",
            "pygments_lexer": "ipython3",
            "version": "3.11.4"
        },
        "orig_nbformat": 4,
        "vscode": {
            "interpreter": {
                "hash": "110cc1dee26208153f2972f08a2ad52b6a56238dc66d48e87fb757ef2996db56"
            }
        }
    },
    "nbformat": 4,
    "nbformat_minor": 2
}
